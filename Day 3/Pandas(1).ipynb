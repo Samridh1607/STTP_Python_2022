{
 "cells": [
  {
   "cell_type": "code",
   "execution_count": null,
   "metadata": {},
   "outputs": [],
   "source": [
    "# 1. Consider the following dataset for monthly precipitation (in mm) in a region over 12 months \n",
    "#  Jan Feb   March  April May   June  July   August September October November December\n",
    "#  70  60.5   50.3   50    30  150.8  120.3  108.2   80.9      70.2    91.4     102 \n",
    "\n",
    "\n",
    "# i) Visualize this data using matplotlib using scatter and bar plots. \n",
    "\n",
    "# ii) Create a Series S1 of these scalar values using the default indexing. Print S1. Notice that using\n",
    "#     conventional indexing does not provide more meaning to the dataset. So go to the next step.\n",
    "\n",
    "# iii) Create a Series S2 of these scalar values using corresponding months as indices. Print S2.\n",
    "\n",
    "# iv) Create an array of the above values using np.array and call it a. Print a\n",
    "\n",
    "# v) Create a Series S using the array a with corresponding months as indices. Observe that both the\n",
    "# array and scalar value creation create the same Series. Print S.\n",
    "\n",
    "# vi) Create an appropriate (column) name for series S values using the name attribute of series. Print S.\n",
    "\n",
    "# vii) Create an appropriate (column) name for indices of S using the index.name attribute. Print S. \n",
    "\n",
    "# viii) Print the size of the series using the size attribute.\n",
    "\n",
    "# ix) Print the 4th, 5th, and 8th element using the loc attribute. \n",
    "\n",
    "# x) Print the first 3 observations of S using the head function and the last 2 observations using the tail function. \n",
    "\n",
    "# xi) Print the maximum, minimum, mean, median values of S.\n",
    "\n",
    "# xii) Print the months with maximum precipitation and minimum precipitation. \n",
    "\n",
    "# xiii) Print the two months with most precipitation. \n",
    "\n",
    "# xiv) Print the months and corresponding values of S where the precipitation is <= the mean value.\n",
    "\n",
    "# xv) Print all values of the Series S where the precipitation is between 75 to 100. Print the corresponding \n",
    "# indices (months) as well.\n",
    "\n",
    "# xvi) Print the less wet months from the Series S by finding all indices whose value <=50."
   ]
  },
  {
   "cell_type": "code",
   "execution_count": null,
   "metadata": {},
   "outputs": [],
   "source": [
    "# Input the series S_r2 given below with data for some months are missing.\n",
    "# Jan Feb  March  April  May  June   July   August September October November December\n",
    "#     60.5  50    150.8      120.3  108.2  80.9     70.3                      102 \n",
    "\n",
    "# xvii) Suppose one wants to visualize the combined total value of precipitation in regions given by S and\n",
    "# S_r2, So, add S and S_r2. Print the resulting series. What do you observe? "
   ]
  },
  {
   "cell_type": "code",
   "execution_count": 1,
   "metadata": {},
   "outputs": [],
   "source": [
    "import pandas as pd\n",
    "import matplotlib.pyplot as plt\n",
    "import numpy as np"
   ]
  },
  {
   "cell_type": "code",
   "execution_count": null,
   "metadata": {},
   "outputs": [],
   "source": [
    "# i) Visualize this data using matplotlib using scatter and bar plots. "
   ]
  },
  {
   "cell_type": "code",
   "execution_count": 2,
   "metadata": {},
   "outputs": [],
   "source": [
    "month = [\"Jan\",\"Feb\", \"Mar\", \"April\", \"May\", \"June\",\"July\", \"Aug\",\"Sept\", \"Oct\", \"Nov\",\"Dec\"]\n",
    "precip = [70, 60.5, 50.3, 50, 30, 150.8, 120.3, 108.2, 80.9, 70.2,  91.4, 102]"
   ]
  },
  {
   "cell_type": "code",
   "execution_count": 3,
   "metadata": {},
   "outputs": [
    {
     "data": {
      "image/png": "[encoded data removed]",
      "text/plain": [
       "<Figure size 432x288 with 1 Axes>"
      ]
     },
     "metadata": {
      "needs_background": "light"
     },
     "output_type": "display_data"
    }
   ],
   "source": [
    "plt.scatter(month, precip, \n",
    "            color='g')\n",
    "\n",
    "plt.show()"
   ]
  },
  {
   "cell_type": "code",
   "execution_count": 4,
   "metadata": {},
   "outputs": [
    {
     "data": {
      "image/png": "[encoded data removed]",
      "text/plain": [
       "<Figure size 432x288 with 1 Axes>"
      ]
     },
     "metadata": {
      "needs_background": "light"
     },
     "output_type": "display_data"
    }
   ],
   "source": [
    "plt.bar(month, precip, color ='orange',\n",
    "        width = 0.4)\n",
    " \n",
    "plt.xlabel(\"Month\")\n",
    "plt.ylabel(\"Precipitation\")\n",
    "plt.title(\"Monthly precipitation\")\n",
    "\n",
    "plt.show()"
   ]
  },
  {
   "cell_type": "code",
   "execution_count": null,
   "metadata": {},
   "outputs": [],
   "source": [
    "# ii) Create a Series S1 of these scalar values using the default indexing. Print S1. Notice that using\n",
    "# conventional indexing does not provide more meaning to the dataset. So go to the next step."
   ]
  },
  {
   "cell_type": "code",
   "execution_count": 5,
   "metadata": {},
   "outputs": [
    {
     "name": "stdout",
     "output_type": "stream",
     "text": [
      "0      70.0\n",
      "1      60.5\n",
      "2      50.3\n",
      "3      50.0\n",
      "4      30.0\n",
      "5     150.8\n",
      "6     120.3\n",
      "7     108.2\n",
      "8      80.9\n",
      "9      70.2\n",
      "10     91.4\n",
      "11    102.0\n",
      "dtype: float64\n"
     ]
    }
   ],
   "source": [
    "S1 = pd.Series(precip)\n",
    "print(S1)"
   ]
  },
  {
   "cell_type": "code",
   "execution_count": null,
   "metadata": {},
   "outputs": [],
   "source": [
    "# iii) Create a Series S2 of these scalar values using corresponding months as indices. Print S2."
   ]
  },
  {
   "cell_type": "code",
   "execution_count": 6,
   "metadata": {},
   "outputs": [
    {
     "name": "stdout",
     "output_type": "stream",
     "text": [
      "Jan       70.0\n",
      "Feb       60.5\n",
      "Mar       50.3\n",
      "April     50.0\n",
      "May       30.0\n",
      "June     150.8\n",
      "July     120.3\n",
      "Aug      108.2\n",
      "Sept      80.9\n",
      "Oct       70.2\n",
      "Nov       91.4\n",
      "Dec      102.0\n",
      "dtype: float64\n"
     ]
    }
   ],
   "source": [
    "S2 = pd.Series(precip, \n",
    "               index=month)\n",
    "print(S2)"
   ]
  },
  {
   "cell_type": "code",
   "execution_count": null,
   "metadata": {},
   "outputs": [],
   "source": [
    "# iv) Create an array of the above values using np.array and call it a. Print a"
   ]
  },
  {
   "cell_type": "code",
   "execution_count": 7,
   "metadata": {},
   "outputs": [
    {
     "name": "stdout",
     "output_type": "stream",
     "text": [
      "[ 70.   60.5  50.3  50.   30.  150.8 120.3 108.2  80.9  70.2  91.4 102. ]\n"
     ]
    }
   ],
   "source": [
    "a = np.array(precip)\n",
    "print(a)"
   ]
  },
  {
   "cell_type": "code",
   "execution_count": null,
   "metadata": {},
   "outputs": [],
   "source": [
    "# v) Create a Series S using the array a with corresponding months as indices. Observe that both the\n",
    "# array and scalar value creation create the same Series. Print S. "
   ]
  },
  {
   "cell_type": "code",
   "execution_count": 9,
   "metadata": {},
   "outputs": [
    {
     "name": "stdout",
     "output_type": "stream",
     "text": [
      "Jan       70.0\n",
      "Feb       60.5\n",
      "Mar       50.3\n",
      "April     50.0\n",
      "May       30.0\n",
      "June     150.8\n",
      "July     120.3\n",
      "Aug      108.2\n",
      "Sept      80.9\n",
      "Oct       70.2\n",
      "Nov       91.4\n",
      "Dec      102.0\n",
      "dtype: float64\n"
     ]
    }
   ],
   "source": [
    "S = pd.Series(a, \n",
    "               index=month)\n",
    "print(S)"
   ]
  },
  {
   "cell_type": "code",
   "execution_count": null,
   "metadata": {},
   "outputs": [],
   "source": [
    "# vi) Create an appropriate (column) name for series S values using the name attribute of series. Print S. "
   ]
  },
  {
   "cell_type": "code",
   "execution_count": 10,
   "metadata": {},
   "outputs": [
    {
     "name": "stdout",
     "output_type": "stream",
     "text": [
      "Jan       70.0\n",
      "Feb       60.5\n",
      "Mar       50.3\n",
      "April     50.0\n",
      "May       30.0\n",
      "June     150.8\n",
      "July     120.3\n",
      "Aug      108.2\n",
      "Sept      80.9\n",
      "Oct       70.2\n",
      "Nov       91.4\n",
      "Dec      102.0\n",
      "Name: Precip, dtype: float64\n"
     ]
    }
   ],
   "source": [
    "S.name = \"Precip\"\n",
    "print(S)"
   ]
  },
  {
   "cell_type": "code",
   "execution_count": null,
   "metadata": {},
   "outputs": [],
   "source": [
    "# vii) Create an appropriate (column) name for indices of S using the index.name attribute. Print S. "
   ]
  },
  {
   "cell_type": "code",
   "execution_count": 11,
   "metadata": {},
   "outputs": [
    {
     "name": "stdout",
     "output_type": "stream",
     "text": [
      "month\n",
      "Jan       70.0\n",
      "Feb       60.5\n",
      "Mar       50.3\n",
      "April     50.0\n",
      "May       30.0\n",
      "June     150.8\n",
      "July     120.3\n",
      "Aug      108.2\n",
      "Sept      80.9\n",
      "Oct       70.2\n",
      "Nov       91.4\n",
      "Dec      102.0\n",
      "Name: Precip, dtype: float64\n"
     ]
    }
   ],
   "source": [
    "S.index.name = \"month\"\n",
    "print(S)"
   ]
  },
  {
   "cell_type": "code",
   "execution_count": null,
   "metadata": {},
   "outputs": [],
   "source": [
    "# viii) Print the size of the series using the size attribute. "
   ]
  },
  {
   "cell_type": "code",
   "execution_count": 12,
   "metadata": {},
   "outputs": [
    {
     "data": {
      "text/plain": [
       "12"
      ]
     },
     "execution_count": 12,
     "metadata": {},
     "output_type": "execute_result"
    }
   ],
   "source": [
    "S.size"
   ]
  },
  {
   "cell_type": "code",
   "execution_count": null,
   "metadata": {},
   "outputs": [],
   "source": [
    "# ix) Print the 4th, 5th, and 8th element using the loc attribute. "
   ]
  },
  {
   "cell_type": "code",
   "execution_count": 13,
   "metadata": {},
   "outputs": [
    {
     "data": {
      "text/plain": [
       "50.0"
      ]
     },
     "execution_count": 13,
     "metadata": {},
     "output_type": "execute_result"
    }
   ],
   "source": [
    "S.loc['April']"
   ]
  },
  {
   "cell_type": "code",
   "execution_count": 14,
   "metadata": {},
   "outputs": [
    {
     "data": {
      "text/plain": [
       "30.0"
      ]
     },
     "execution_count": 14,
     "metadata": {},
     "output_type": "execute_result"
    }
   ],
   "source": [
    "S.loc['May']"
   ]
  },
  {
   "cell_type": "code",
   "execution_count": 15,
   "metadata": {},
   "outputs": [
    {
     "data": {
      "text/plain": [
       "108.2"
      ]
     },
     "execution_count": 15,
     "metadata": {},
     "output_type": "execute_result"
    }
   ],
   "source": [
    "S.loc[\"Aug\"]"
   ]
  },
  {
   "cell_type": "code",
   "execution_count": null,
   "metadata": {},
   "outputs": [],
   "source": [
    "# x) Print the first 3 observations of S using the head function and the last 2 observations using the tail function. "
   ]
  },
  {
   "cell_type": "code",
   "execution_count": 18,
   "metadata": {},
   "outputs": [
    {
     "data": {
      "text/plain": [
       "month\n",
       "Jan    70.0\n",
       "Feb    60.5\n",
       "Mar    50.3\n",
       "Name: Precip, dtype: float64"
      ]
     },
     "execution_count": 18,
     "metadata": {},
     "output_type": "execute_result"
    }
   ],
   "source": [
    "S.head(3)"
   ]
  },
  {
   "cell_type": "code",
   "execution_count": 19,
   "metadata": {},
   "outputs": [
    {
     "data": {
      "text/plain": [
       "month\n",
       "Oct     70.2\n",
       "Nov     91.4\n",
       "Dec    102.0\n",
       "Name: Precip, dtype: float64"
      ]
     },
     "execution_count": 19,
     "metadata": {},
     "output_type": "execute_result"
    }
   ],
   "source": [
    "S.tail(3)"
   ]
  },
  {
   "cell_type": "code",
   "execution_count": null,
   "metadata": {},
   "outputs": [],
   "source": [
    "# xi) Print the maximum, minimum, mean, median values of S."
   ]
  },
  {
   "cell_type": "code",
   "execution_count": 20,
   "metadata": {},
   "outputs": [
    {
     "data": {
      "text/plain": [
       "150.8"
      ]
     },
     "execution_count": 20,
     "metadata": {},
     "output_type": "execute_result"
    }
   ],
   "source": [
    "S.max()"
   ]
  },
  {
   "cell_type": "code",
   "execution_count": 21,
   "metadata": {},
   "outputs": [
    {
     "data": {
      "text/plain": [
       "30.0"
      ]
     },
     "execution_count": 21,
     "metadata": {},
     "output_type": "execute_result"
    }
   ],
   "source": [
    "S.min()"
   ]
  },
  {
   "cell_type": "code",
   "execution_count": 22,
   "metadata": {},
   "outputs": [
    {
     "data": {
      "text/plain": [
       "82.05"
      ]
     },
     "execution_count": 22,
     "metadata": {},
     "output_type": "execute_result"
    }
   ],
   "source": [
    "S.mean()"
   ]
  },
  {
   "cell_type": "code",
   "execution_count": 23,
   "metadata": {},
   "outputs": [
    {
     "data": {
      "text/plain": [
       "75.55000000000001"
      ]
     },
     "execution_count": 23,
     "metadata": {},
     "output_type": "execute_result"
    }
   ],
   "source": [
    "S.median()"
   ]
  },
  {
   "cell_type": "code",
   "execution_count": null,
   "metadata": {},
   "outputs": [],
   "source": [
    "# xii) Print the months with maximum precipitation and minimum precipitation. "
   ]
  },
  {
   "cell_type": "code",
   "execution_count": 24,
   "metadata": {},
   "outputs": [
    {
     "data": {
      "text/plain": [
       "'June'"
      ]
     },
     "execution_count": 24,
     "metadata": {},
     "output_type": "execute_result"
    }
   ],
   "source": [
    "S.idxmax()"
   ]
  },
  {
   "cell_type": "code",
   "execution_count": 25,
   "metadata": {},
   "outputs": [
    {
     "data": {
      "text/plain": [
       "'May'"
      ]
     },
     "execution_count": 25,
     "metadata": {},
     "output_type": "execute_result"
    }
   ],
   "source": [
    "S.idxmin()"
   ]
  },
  {
   "cell_type": "code",
   "execution_count": null,
   "metadata": {},
   "outputs": [],
   "source": [
    "# xiii) Print the two months with most precipitation. "
   ]
  },
  {
   "cell_type": "code",
   "execution_count": 27,
   "metadata": {},
   "outputs": [
    {
     "data": {
      "text/plain": [
       "month\n",
       "July    120.3\n",
       "June    150.8\n",
       "Name: Precip, dtype: float64"
      ]
     },
     "execution_count": 27,
     "metadata": {},
     "output_type": "execute_result"
    }
   ],
   "source": [
    "S.sort_values().tail(2)"
   ]
  },
  {
   "cell_type": "code",
   "execution_count": null,
   "metadata": {},
   "outputs": [],
   "source": [
    "# xiv) Print the months and corresponding values of S where the precipitation is <= the mean value. "
   ]
  },
  {
   "cell_type": "code",
   "execution_count": 28,
   "metadata": {},
   "outputs": [
    {
     "data": {
      "text/plain": [
       "month\n",
       "Jan      70.0\n",
       "Feb      60.5\n",
       "Mar      50.3\n",
       "April    50.0\n",
       "May      30.0\n",
       "Sept     80.9\n",
       "Oct      70.2\n",
       "Name: Precip, dtype: float64"
      ]
     },
     "execution_count": 28,
     "metadata": {},
     "output_type": "execute_result"
    }
   ],
   "source": [
    "S[S.le(S.mean())]"
   ]
  },
  {
   "cell_type": "code",
   "execution_count": null,
   "metadata": {},
   "outputs": [],
   "source": [
    "# xv) Print all values of the Series S where the precipitation is between 75 to 100. Print the corresponding \n",
    "# indices (months) as well. "
   ]
  },
  {
   "cell_type": "code",
   "execution_count": 29,
   "metadata": {},
   "outputs": [
    {
     "data": {
      "text/plain": [
       "month\n",
       "Sept    80.9\n",
       "Nov     91.4\n",
       "Name: Precip, dtype: float64"
      ]
     },
     "execution_count": 29,
     "metadata": {},
     "output_type": "execute_result"
    }
   ],
   "source": [
    "S[(S > 75) & (S < 100)]"
   ]
  },
  {
   "cell_type": "code",
   "execution_count": null,
   "metadata": {},
   "outputs": [],
   "source": [
    "# xvi) Print the less wet months from the Series S by finding all indices whose value <=50. "
   ]
  },
  {
   "cell_type": "code",
   "execution_count": 31,
   "metadata": {},
   "outputs": [
    {
     "data": {
      "text/plain": [
       "Index(['April', 'May'], dtype='object', name='month')"
      ]
     },
     "execution_count": 31,
     "metadata": {},
     "output_type": "execute_result"
    }
   ],
   "source": [
    "S[S.le(50)].index"
   ]
  },
  {
   "cell_type": "code",
   "execution_count": null,
   "metadata": {},
   "outputs": [],
   "source": [
    "# Input the series S_r2 given below with data for some months are missing.\n",
    "\n",
    "# Jan Feb  March  April  May  June   July   August September October November December\n",
    "#     60.5  50    150.8      120.3  108.2  80.9     70.3                      102 \n",
    "\n",
    "# xvii) Suppose one wants to visualize the combined total value of precipitation in regions given by S and\n",
    "# S_r2, So, add S and S_r2. Print the resulting series. What do you observe? "
   ]
  },
  {
   "cell_type": "code",
   "execution_count": 32,
   "metadata": {},
   "outputs": [],
   "source": [
    "monthR2 = [\"Jan\",\"Feb\", \"Mar\", \"April\", \"May\", \"June\",\"July\", \"Aug\",\"Sept\", \"Oct\", \"Nov\",\"Dec\"]\n",
    "precipR2 = [ 0, 60.5, 50, 150.8,0 , 120.3, 108.2, 80.9, 70.3, 0,  0, 102]"
   ]
  },
  {
   "cell_type": "code",
   "execution_count": 33,
   "metadata": {},
   "outputs": [
    {
     "name": "stdout",
     "output_type": "stream",
     "text": [
      "Jan        0.0\n",
      "Feb       60.5\n",
      "Mar       50.0\n",
      "April    150.8\n",
      "May        0.0\n",
      "June     120.3\n",
      "July     108.2\n",
      "Aug       80.9\n",
      "Sept      70.3\n",
      "Oct        0.0\n",
      "Nov        0.0\n",
      "Dec      102.0\n",
      "dtype: float64\n"
     ]
    }
   ],
   "source": [
    "S_R2 = pd.Series(precipR2, \n",
    "               index=monthR2)\n",
    "print(S_R2 )"
   ]
  },
  {
   "cell_type": "code",
   "execution_count": 34,
   "metadata": {},
   "outputs": [
    {
     "data": {
      "text/plain": [
       "month\n",
       "Jan       70.0\n",
       "Feb      121.0\n",
       "Mar      100.3\n",
       "April    200.8\n",
       "May       30.0\n",
       "June     271.1\n",
       "July     228.5\n",
       "Aug      189.1\n",
       "Sept     151.2\n",
       "Oct       70.2\n",
       "Nov       91.4\n",
       "Dec      204.0\n",
       "dtype: float64"
      ]
     },
     "execution_count": 34,
     "metadata": {},
     "output_type": "execute_result"
    }
   ],
   "source": [
    "S.add(S_R2)"
   ]
  },
  {
   "cell_type": "code",
   "execution_count": null,
   "metadata": {},
   "outputs": [],
   "source": []
  }
 ],
 "metadata": {
  "kernelspec": {
   "display_name": "Python 3",
   "language": "python",
   "name": "python3"
  },
  "language_info": {
   "codemirror_mode": {
    "name": "ipython",
    "version": 3
   },
   "file_extension": ".py",
   "mimetype": "text/x-python",
   "name": "python",
   "nbconvert_exporter": "python",
   "pygments_lexer": "ipython3",
   "version": "3.7.4"
  }
 },
 "nbformat": 4,
 "nbformat_minor": 2
}
